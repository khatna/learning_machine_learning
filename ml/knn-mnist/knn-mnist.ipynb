{
 "cells": [
  {
   "cell_type": "markdown",
   "metadata": {},
   "source": [
    "# Implementation of K-Nearest Neighbors on MNIST dataset\n",
    "This is a sample implementation of k-nearest neighbors using `numpy`. The MNIST dataset is a dataset of handwritten digits, stored as 28 x 28 images. We first define functions to read from the train and test datasets, and plot an image."
   ]
  },
  {
   "cell_type": "code",
   "execution_count": 3,
   "metadata": {},
   "outputs": [],
   "source": [
    "import numpy as np\n",
    "import matplotlib.pyplot as plt\n",
    "import gzip\n",
    "\n",
    "FILE_NAME = 'train-images-idx3-ubyte.gz'\n",
    "IMAGE_SIZE = 28\n",
    "NUM_IMAGES = 2000\n",
    "\n",
    "def read_images(num_images=NUM_IMAGES, image_size=IMAGE_SIZE, file_name=FILE_NAME):\n",
    "    f = gzip.open(file_name, 'r')\n",
    "    f.read(16)\n",
    "    buf = f.read(image_size * image_size * num_images)\n",
    "    data = np.frombuffer(buf, dtype=np.uint8).astype(np.float32)\n",
    "    data = data.reshape(num_images, image_size * image_size)\n",
    "    f.close()\n",
    "    return data\n",
    "\n",
    "FILE_NAME_Y = 'train-labels-idx1-ubyte.gz'\n",
    "def read_labels(num_images=NUM_IMAGES, file_name=FILE_NAME_Y):\n",
    "    f = gzip.open(file_name, 'r')\n",
    "    f.read(8)\n",
    "    buf = f.read(num_images)\n",
    "    labels = np.frombuffer(buf, dtype=np.uint8).astype(np.int64)\n",
    "    f.close()\n",
    "    return labels\n",
    "\n",
    "def plot_image(data, name='Image'):\n",
    "    image = np.asarray(data).reshape(28,28,1).squeeze()\n",
    "    plt.imshow(image)\n",
    "    plt.title(name)\n",
    "    plt.show()\n",
    "    \n",
    "def plot_comparison(test_data, train_data):\n",
    "    image_test = np.asarray(test_data).reshape(28,28,1).squeeze()\n",
    "    image_train = np.asarray(train_data).reshape(28,28,1).squeeze()\n",
    "    \n",
    "    plt.subplot(1,2,1)\n",
    "    plt.imshow(image_test)\n",
    "    plt.title('Test Image')\n",
    "    \n",
    "    plt.subplot(1,2,2)\n",
    "    plt.imshow(image_train)\n",
    "    plt.title('Neares Neighbor Image')\n",
    "    \n",
    "    plt.show()"
   ]
  },
  {
   "cell_type": "markdown",
   "metadata": {},
   "source": [
    "`classify` returns the indices of the $k$ nearest neighbors. We represent the training data as a $n$ $\\times$ $(28\\cdot28)$ matrix, subtract the row vector corresponding test image from all rows in the training data, and use this to calculate the Euclidean distance to each training image. Below, we show the nearest neighbor for a few examples."
   ]
  },
  {
   "cell_type": "code",
   "execution_count": 4,
   "metadata": {},
   "outputs": [
    {
     "data": {
      "image/png": "[encoded data removed]",
      "text/plain": [
       "<Figure size 432x288 with 2 Axes>"
      ]
     },
     "metadata": {
      "needs_background": "light"
     },
     "output_type": "display_data"
    },
    {
     "data": {
      "image/png": "[encoded data removed]",
      "text/plain": [
       "<Figure size 432x288 with 2 Axes>"
      ]
     },
     "metadata": {
      "needs_background": "light"
     },
     "output_type": "display_data"
    },
    {
     "data": {
      "image/png": "[encoded data removed]",
      "text/plain": [
       "<Figure size 432x288 with 2 Axes>"
      ]
     },
     "metadata": {
      "needs_background": "light"
     },
     "output_type": "display_data"
    }
   ],
   "source": [
    "train = read_images()\n",
    "labels = read_labels()\n",
    "test = read_images(num_images=200, file_name='t10k-images-idx3-ubyte.gz')\n",
    "test_labels = read_labels(num_images=200, file_name='t10k-labels-idx1-ubyte.gz')\n",
    "\n",
    "def classify(k, image, train, labels):\n",
    "    A = np.square(train - image)\n",
    "    distances = np.sqrt(A @ np.ones(A.shape[1]))\n",
    "    idx = np.argpartition(distances, k)[:k]\n",
    "    neighbors = labels[idx]\n",
    "    return idx, np.bincount(neighbors).argmax()\n",
    "    \n",
    "\n",
    "idx0, _ = classify(1, test[0], train, labels)\n",
    "idx1, _ = classify(1, test[1], train, labels)\n",
    "idx2, _ = classify(1, test[2], train, labels)\n",
    "\n",
    "plot_comparison(test[0], train[idx0[0]])\n",
    "plot_comparison(test[1], train[idx1[0]])\n",
    "plot_comparison(test[2], train[idx2[0]])"
   ]
  },
  {
   "cell_type": "markdown",
   "metadata": {},
   "source": [
    "A very simple algorithm like k-nearest neighbors can produce surprisingly accurate results on the MNIST dataset:"
   ]
  },
  {
   "cell_type": "code",
   "execution_count": 5,
   "metadata": {},
   "outputs": [
    {
     "name": "stdout",
     "output_type": "stream",
     "text": [
      "Accuracy (k = 1): 0.88\n",
      "Accuracy (k = 2): 0.86\n",
      "Accuracy (k = 3): 0.91\n",
      "Accuracy (k = 4): 0.89\n",
      "Accuracy (k = 5): 0.90\n"
     ]
    }
   ],
   "source": [
    "def preds(k, test, train, labels):    \n",
    "    pred = []\n",
    "    for image in test:\n",
    "        _, pred_label = classify(k, image, train, labels)\n",
    "        pred.append(pred_label)\n",
    "    \n",
    "    return pred\n",
    "    \n",
    "for k in range(1,6):\n",
    "    print('Accuracy (k = %d): %.2f' % (k, np.mean(preds(k, test, train, labels) == test_labels)))"
   ]
  }
 ],
 "metadata": {
  "kernelspec": {
   "display_name": "Python 3",
   "language": "python",
   "name": "python3"
  },
  "language_info": {
   "codemirror_mode": {
    "name": "ipython",
    "version": 3
   },
   "file_extension": ".py",
   "mimetype": "text/x-python",
   "name": "python",
   "nbconvert_exporter": "python",
   "pygments_lexer": "ipython3",
   "version": "3.8.2"
  }
 },
 "nbformat": 4,
 "nbformat_minor": 4
}
