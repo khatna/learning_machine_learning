{
 "cells": [
  {
   "cell_type": "markdown",
   "metadata": {},
   "source": [
    "# Implementation of K-Nearest Neighbors on MNIST dataset\n",
    "This is a sample implementation of k-nearest neighbors using `numpy`. The MNIST dataset is a dataset of handwritten digits, stored as 28 x 28 images. We first define functions to read from the train and test datasets, and plot an image."
   ]
  },
  {
   "cell_type": "code",
   "execution_count": 12,
   "metadata": {},
   "outputs": [],
   "source": [
    "import numpy as np\n",
    "import matplotlib.pyplot as plt\n",
    "import gzip\n",
    "\n",
    "FILE_NAME = 'train-images-idx3-ubyte.gz'\n",
    "IMAGE_SIZE = 28\n",
    "NUM_IMAGES = 20000\n",
    "\n",
    "def read_images(num_images=NUM_IMAGES, image_size=IMAGE_SIZE, file_name=FILE_NAME):\n",
    "    f = gzip.open(file_name, 'r')\n",
    "    f.read(16)\n",
    "    buf = f.read(image_size * image_size * num_images)\n",
    "    data = np.frombuffer(buf, dtype=np.uint8).astype(np.float32)\n",
    "    data = data.reshape(num_images, image_size * image_size)\n",
    "    f.close()\n",
    "    return data\n",
    "\n",
    "FILE_NAME_Y = 'train-labels-idx1-ubyte.gz'\n",
    "def read_labels(num_images=NUM_IMAGES, file_name=FILE_NAME_Y):\n",
    "    f = gzip.open(file_name, 'r')\n",
    "    f.read(8)\n",
    "    buf = f.read(num_images)\n",
    "    labels = np.frombuffer(buf, dtype=np.uint8).astype(np.int64)\n",
    "    f.close()\n",
    "    return labels\n",
    "\n",
    "def plot_image(data, name='Image'):\n",
    "    image = np.asarray(data).reshape(28,28,1).squeeze()\n",
    "    plt.imshow(image)\n",
    "    plt.title(name)\n",
    "    plt.show()\n",
    "    \n",
    "def plot_comparison(test_data, train_data):\n",
    "    image_test = np.asarray(test_data).reshape(28,28,1).squeeze()\n",
    "    image_train = np.asarray(train_data).reshape(28,28,1).squeeze()\n",
    "    \n",
    "    plt.subplot(1,2,1)\n",
    "    plt.imshow(image_test)\n",
    "    plt.title('Test Image')\n",
    "    \n",
    "    plt.subplot(1,2,2)\n",
    "    plt.imshow(image_train)\n",
    "    plt.title('Neares Neighbor Image')\n",
    "    \n",
    "    plt.show()"
   ]
  },
  {
   "cell_type": "markdown",
   "metadata": {},
   "source": [
    "`classify` returns the indices of the $k$ nearest neighbors. We represent the training data as a $n$ $\\times$ $(28\\cdot28)$ matrix, subtract the row vector corresponding test image from all rows in the training data, and use this to calculate the Euclidean distance to each training image. Below, we show the nearest neighbor for a few examples."
   ]
  },
  {
   "cell_type": "code",
   "execution_count": 13,
   "metadata": {},
   "outputs": [],
   "source": [
    "train = read_images()\n",
    "labels = read_labels()\n",
    "\n",
    "NUM_TEST = 4000\n",
    "\n",
    "test = read_images(num_images=NUM_TEST, file_name='t10k-images-idx3-ubyte.gz')\n",
    "test_labels = read_labels(num_images=NUM_TEST, file_name='t10k-labels-idx1-ubyte.gz')\n",
    "\n",
    "# dists[i,j] is the distance from i-th test point to j-th train point\n",
    "test_sq  = np.sum(test ** 2, axis=1).reshape(NUM_TEST,1)\n",
    "train_sq = np.sum(train ** 2, axis=1)\n",
    "dists = np.sqrt(test_sq + train_sq - 2 * test @ train.T)"
   ]
  },
  {
   "cell_type": "code",
   "execution_count": 14,
   "metadata": {},
   "outputs": [],
   "source": [
    "# classify gets the most common label in the k closest train points\n",
    "def classify(k, dists):\n",
    "    y_pred = np.zeros(dists.shape[0])\n",
    "    \n",
    "    for i in range(dists.shape[0]):\n",
    "        closest_y = labels[np.argsort(dists[i])[:k]]\n",
    "        y_pred[i] = np.bincount(closest_y).argmax()\n",
    "        \n",
    "    return y_pred"
   ]
  },
  {
   "cell_type": "markdown",
   "metadata": {},
   "source": [
    "A very simple algorithm like k-nearest neighbors can produce surprisingly accurate results on the MNIST dataset:"
   ]
  },
  {
   "cell_type": "code",
   "execution_count": 15,
   "metadata": {},
   "outputs": [
    {
     "name": "stdout",
     "output_type": "stream",
     "text": [
      "Accuracy (k = 1): 0.93\n",
      "Accuracy (k = 2): 0.93\n",
      "Accuracy (k = 3): 0.94\n",
      "Accuracy (k = 4): 0.94\n",
      "Accuracy (k = 5): 0.94\n"
     ]
    }
   ],
   "source": [
    "for k in range(1,6):\n",
    "    print('Accuracy (k = %d): %.2f' % (k, np.mean(classify(k, dists) == test_labels)))"
   ]
  },
  {
   "cell_type": "markdown",
   "metadata": {},
   "source": [
    "Below, we see the test images in the first row, and their nearest neighbors in the second"
   ]
  },
  {
   "cell_type": "code",
   "execution_count": 47,
   "metadata": {},
   "outputs": [
    {
     "data": {
      "image/png": "[encoded data removed]",
      "text/plain": [
       "<Figure size 1080x432 with 10 Axes>"
      ]
     },
     "metadata": {
      "needs_background": "light"
     },
     "output_type": "display_data"
    }
   ],
   "source": [
    "nn = np.argmin(dists, axis=1)\n",
    "fig, axs = plt.subplots(2,5,figsize=(15,6))\n",
    "images = np.random.choice(NUM_TEST, 5)\n",
    "plt.tight_layout()\n",
    "for i in range(5):\n",
    "    axs[0,i].imshow(test[images[i]].reshape(28,28), cmap='gray')\n",
    "    axs[1,i].imshow(train[nn[images[i]]].reshape(28,28), cmap='gray')\n",
    "    axs[0,i].axis('off')\n",
    "    axs[1,i].axis('off')\n",
    "    \n",
    "plt.show()"
   ]
  }
 ],
 "metadata": {
  "kernelspec": {
   "display_name": "Python 3",
   "language": "python",
   "name": "python3"
  },
  "language_info": {
   "codemirror_mode": {
    "name": "ipython",
    "version": 3
   },
   "file_extension": ".py",
   "mimetype": "text/x-python",
   "name": "python",
   "nbconvert_exporter": "python",
   "pygments_lexer": "ipython3",
   "version": "3.8.2"
  }
 },
 "nbformat": 4,
 "nbformat_minor": 4
}
