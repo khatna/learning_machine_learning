{
 "cells": [
  {
   "cell_type": "markdown",
   "metadata": {},
   "source": [
    "# Multiclass Logistic Regression with SGD\n",
    "Implementation of multiple class logistic regression on the MNIST dataset, using stochastic gradient descent. (The code here got really ugly towards the end...)"
   ]
  },
  {
   "cell_type": "code",
   "execution_count": 1,
   "metadata": {},
   "outputs": [
    {
     "data": {
      "image/png": "[encoded data removed]",
      "text/plain": [
       "<Figure size 432x288 with 1 Axes>"
      ]
     },
     "metadata": {
      "needs_background": "light"
     },
     "output_type": "display_data"
    }
   ],
   "source": [
    "import numpy as np\n",
    "import matplotlib.pyplot as plt\n",
    "\n",
    "# Import the MNIST data\n",
    "from tensorflow.keras.datasets import mnist as keras_mnist\n",
    "(X_train, ytr), (X_test, yte) = keras_mnist.load_data()\n",
    "\n",
    "# Normalizing data\n",
    "def normalize(X):\n",
    "    n, px, py = X.shape\n",
    "    Xr = X.reshape(n, px * py)\n",
    "    \n",
    "    m = np.mean(Xr, axis=1).reshape(n,1)\n",
    "    s = np.std(Xr, axis=1).reshape(n,1)\n",
    "    \n",
    "    return (Xr - m) / s\n",
    "\n",
    "Xtr = normalize(X_train)\n",
    "Xte = normalize(X_test)\n",
    "\n",
    "plt.imshow(Xtr[0].reshape(28,28), cmap='gray')\n",
    "plt.axis('off')\n",
    "plt.title('Label: %d' % ytr[0])\n",
    "plt.show()"
   ]
  },
  {
   "cell_type": "markdown",
   "metadata": {},
   "source": [
    "## Problem setup\n",
    "\n",
    "* Examples: $X \\in \\mathbb{R}^{N\\times{D}}$, labels: $\\mathbf{y}\\in\\{0\\dots K\\}^N$\n",
    "* Weights matrix: $W \\in \\mathbb{R}^{K\\times D}$\n",
    "* Prediction for $\\mathbf{x_i}$: Index $j$ of $W\\mathbf{x}_i$ with largest value\n",
    "* Logistic loss for example $\\mathbf{x}_i$: $l_i(W)=\\log\\left(\\sum_{k=1}^{K}\\exp(\\mathbf{w}_k\\cdot\\mathbf{x}_i)\\right)-\\mathbf{w}_{y_i}\\cdot\\mathbf{x}_i$\n",
    "* Loss: $\\mathcal{L}(W)=\\frac1{|S|}\\sum_{i\\in{S}} l_i(W)$\n",
    "\n",
    "We will be using SGD, so let's first find the gradient of $\\mathcal{L}$ w.r.t $W$:\n",
    "\n",
    "$$\n",
    "\\begin{align}\n",
    "    [\\nabla_W l_i(W)]_{j*}\n",
    "    =\\frac{\\partial l_i}{\\partial\\mathbf{w_j}}\n",
    "    &=\\frac\\partial{\\partial\\mathbf{w_j}}\\left[\\log\\left(\\sum_{k=1}^{K}\\exp(\\mathbf{w}_k\\cdot\\mathbf{x}_i)\\right)-\\mathbf{w}_{y_i}\\cdot\\mathbf{x}_i\\right] \\\\\n",
    "    &=\\frac{\\exp(\\mathbf{w}_j\\cdot\\mathbf{x}_i)\\mathbf{x}_i^\\top}\n",
    "      {\\sum_{k=1}^{K}\\exp(\\mathbf{w}_k\\cdot\\mathbf{x}_i)} - \\frac{\\partial(\\mathbf{w}_{y_i}\\cdot\\mathbf{x}_i)}{\\partial\\mathbf{w_j}} \\\\\n",
    "     &=\\left[\\frac{\\exp(\\mathbf{w}_j\\cdot\\mathbf{x}_i)}\n",
    "      {\\sum_{k=1}^{K}\\exp(\\mathbf{w}_k\\cdot\\mathbf{x}_i)} - \\mathbf1[y_i=j]\\right]\\mathbf{x}_i^\\top\n",
    "\\end{align}\n",
    "$$\n",
    "\n",
    "Define $\\mathbf{v}_i=\\begin{bmatrix}v_{i1} & \\dots & v_{iK}\\end{bmatrix}^\\top$, where $v_{ij}=\\frac{\\exp(\\mathbf{w}_j\\cdot\\mathbf{x}_i)}\n",
    "      {\\sum_{k=1}^{K}\\exp(\\mathbf{w}_k\\cdot\\mathbf{x}_i)} - \\mathbf1[y_i=j]$, then:\n",
    "      \n",
    "$$\n",
    "    \\frac{\\partial l_i}{\\partial W}=\\begin{bmatrix}\n",
    "        v_{i1}\\mathbf{x}_i^\\top \\\\\n",
    "        \\vdots \\\\\n",
    "        v_{iK}\\mathbf{x}_i^\\top \\\\\n",
    "    \\end{bmatrix} = \\mathbf v_i\\mathbf x_i^\\top\n",
    "$$\n",
    "\n",
    "and,\n",
    "\n",
    "$$\n",
    "    \\nabla_W \\mathcal{L}(W)=\\frac1{|S|}\\sum_{i\\in{S}} \\nabla_W l_i=\\frac1{|S|} \\sum_{i\\in S} \\mathbf{v}_i\\mathbf x_i^\\top=\\frac1{|S|}V^\\top{X}\n",
    "$$\n",
    "\n",
    "where \n",
    "$V=\\begin{bmatrix}\n",
    "    \\mathbf{v}_1\n",
    "    \\dots\n",
    "    \\mathbf{v}_n\n",
    "\\end{bmatrix}^\\top$"
   ]
  },
  {
   "cell_type": "code",
   "execution_count": 27,
   "metadata": {},
   "outputs": [],
   "source": [
    "def loss(X, y, W):\n",
    "    Z = np.exp(np.matmul(W, X.transpose()))\n",
    "    N = np.sum(Z, axis = 0)\n",
    "    total = 0\n",
    "    for i, x in enumerate(X):\n",
    "        w_yi = W[y[i]-1]\n",
    "        total += (np.log(N[i]) - np.dot(w_yi,x))\n",
    "    \n",
    "    return total / X.shape[0]\n",
    "\n",
    "def gradient(X, y, W):\n",
    "    n, _ = X.shape\n",
    "    Z = np.exp(X @ W.T)\n",
    "    log_S = np.log(np.sum(Z, axis=1)) \n",
    "    V = np.exp(np.log(Z) - log_S.reshape(n,1))\n",
    "    \n",
    "    for i,j in enumerate(y):\n",
    "        V[i,j-1] = V[i,j-1] - 1\n",
    "    \n",
    "    return V.T @ X / n"
   ]
  },
  {
   "cell_type": "markdown",
   "metadata": {},
   "source": [
    "With `get_v` and `gradient` implemented, we are ready for SGD."
   ]
  },
  {
   "cell_type": "code",
   "execution_count": 30,
   "metadata": {},
   "outputs": [],
   "source": [
    "# Mini batch sampling\n",
    "class Sample_idx:\n",
    "    def __init__(self, n):\n",
    "        self.n = n\n",
    "        self.prm = []\n",
    "        \n",
    "    def sample(self):\n",
    "        if len(self.prm) == 0:\n",
    "            self.prm = np.random.permutation(self.n)\n",
    "            idx, self.prm = self.prm[-1], self.prm[:-1]\n",
    "        else:\n",
    "            idx, self.prm = self.prm[-1], self.prm[:-1]\n",
    "        \n",
    "        return idx\n",
    "\n",
    "# SGD\n",
    "def sgd(X, y, k):\n",
    "    n, d = X.shape\n",
    "    \n",
    "    epochs = 20\n",
    "    bs = 1000\n",
    "    nbs = int(n/bs)\n",
    "    sampler = Sample_idx(nbs)\n",
    "    \n",
    "    W = np.zeros((k,d))\n",
    "    \n",
    "    losses = [loss(X, y, W)]\n",
    "    \n",
    "    for e in range(1, epochs * nbs):\n",
    "        # getting a mini batch\n",
    "        head = sampler.sample() * bs\n",
    "        Xt, yt = X[head:head + bs], y[head:head + bs]\n",
    "        \n",
    "        Wgt = gradient(Xt, yt, W)\n",
    "        W -= 0.1*Wgt\n",
    "\n",
    "        if e % nbs == 0:\n",
    "            l = loss(X, y, W)\n",
    "            print('Epoch #%d: loss: %f.2' % (e//nbs, l))\n",
    "            losses.append(l)\n",
    "    \n",
    "    return W, losses"
   ]
  },
  {
   "cell_type": "code",
   "execution_count": 31,
   "metadata": {},
   "outputs": [
    {
     "name": "stdout",
     "output_type": "stream",
     "text": [
      "Epoch #1: loss: 0.375439.2\n",
      "Epoch #2: loss: 0.335207.2\n",
      "Epoch #3: loss: 0.319904.2\n",
      "Epoch #4: loss: 0.306982.2\n",
      "Epoch #5: loss: 0.300766.2\n",
      "Epoch #6: loss: 0.293182.2\n",
      "Epoch #7: loss: 0.290522.2\n",
      "Epoch #8: loss: 0.288143.2\n",
      "Epoch #9: loss: 0.284148.2\n",
      "Epoch #10: loss: 0.280496.2\n",
      "Epoch #11: loss: 0.279577.2\n",
      "Epoch #12: loss: 0.278550.2\n",
      "Epoch #13: loss: 0.276760.2\n",
      "Epoch #14: loss: 0.274525.2\n",
      "Epoch #15: loss: 0.272738.2\n",
      "Epoch #16: loss: 0.271751.2\n",
      "Epoch #17: loss: 0.270493.2\n",
      "Epoch #18: loss: 0.268735.2\n",
      "Epoch #19: loss: 0.269721.2\n"
     ]
    }
   ],
   "source": [
    "W, ls = sgd(Xtr, ytr, 10)"
   ]
  },
  {
   "cell_type": "code",
   "execution_count": 33,
   "metadata": {},
   "outputs": [
    {
     "data": {
      "image/png": "[encoded data removed]",
      "text/plain": [
       "<Figure size 432x288 with 1 Axes>"
      ]
     },
     "metadata": {
      "needs_background": "light"
     },
     "output_type": "display_data"
    }
   ],
   "source": [
    "# plot the loss over time\n",
    "plt.plot(range(1, 1+len(ls)), ls, linestyle='-', marker='o')\n",
    "plt.grid()\n",
    "xt = np.arange(1, 1+len(ls), 1)\n",
    "_ = plt.xticks(xt)\n",
    "_ = plt.xlabel('Epoch', fontsize=14)\n",
    "_ = plt.ylabel('Loss (SGD)', fontsize=14)\n",
    "plt.show()"
   ]
  },
  {
   "cell_type": "markdown",
   "metadata": {},
   "source": [
    "Here, I visualize the weights achieved for each class by multiple logistic regression"
   ]
  },
  {
   "cell_type": "code",
   "execution_count": 35,
   "metadata": {},
   "outputs": [
    {
     "data": {
      "image/png": "[encoded data removed]",
      "text/plain": [
       "<Figure size 1080x432 with 10 Axes>"
      ]
     },
     "metadata": {
      "needs_background": "light"
     },
     "output_type": "display_data"
    }
   ],
   "source": [
    "weights = W.reshape(10, 28, 28)\n",
    "fig, axes = plt.subplots(2, 5, figsize=(15,6))\n",
    "for r in range(2):\n",
    "    for c in range(5):\n",
    "        fig.tight_layout()\n",
    "        axes[r,c].imshow(weights[r*5+c],cmap='gray')"
   ]
  },
  {
   "cell_type": "code",
   "execution_count": 36,
   "metadata": {},
   "outputs": [],
   "source": [
    "results = np.matmul(W, Xte.transpose())\n",
    "preds = (1 + np.argmax(results, axis=0)) % 10"
   ]
  },
  {
   "cell_type": "code",
   "execution_count": 37,
   "metadata": {},
   "outputs": [
    {
     "name": "stdout",
     "output_type": "stream",
     "text": [
      "First 20 predicted labels: [7 2 1 0 4 1 4 9 6 9 0 6 9 0 1 5 9 7 3 4]\n",
      "First 20 correct labels:   [7 2 1 0 4 1 4 9 5 9 0 6 9 0 1 5 9 7 3 4]\n",
      "Accuracy:                  0.922\n"
     ]
    }
   ],
   "source": [
    "print('First 20 predicted labels:', preds[:20])\n",
    "print('First 20 correct labels:  ', yte[:20])\n",
    "print('Accuracy:                 ', np.mean(preds == yte))"
   ]
  },
  {
   "cell_type": "code",
   "execution_count": null,
   "metadata": {},
   "outputs": [],
   "source": [
    "# Example\n",
    "idx = np.random.choice(Xte.shape[0], 16)\n",
    "examples = Xte[idx].reshape(16,28,28)\n",
    "y_ex = yte[idx]\n",
    "p_ex = preds[idx]\n",
    "\n",
    "fig, axes = plt.subplots(4, 4, figsize=(10,10))\n",
    "plt.axis('off')\n",
    "for r in range(4):\n",
    "    for c in range(4):\n",
    "        i = r * 4 + c\n",
    "        fig.tight_layout()\n",
    "        title = 'Label: %d - Prediction: %d' % (y_ex[i], p_ex[i])\n",
    "        axes[r,c].set_title(title)\n",
    "        axes[r,c].imshow(examples[i], cmap='gray')\n",
    "plt.show()"
   ]
  }
 ],
 "metadata": {
  "kernelspec": {
   "display_name": "Python 3",
   "language": "python",
   "name": "python3"
  },
  "language_info": {
   "codemirror_mode": {
    "name": "ipython",
    "version": 3
   },
   "file_extension": ".py",
   "mimetype": "text/x-python",
   "name": "python",
   "nbconvert_exporter": "python",
   "pygments_lexer": "ipython3",
   "version": "3.8.2"
  }
 },
 "nbformat": 4,
 "nbformat_minor": 4
}
