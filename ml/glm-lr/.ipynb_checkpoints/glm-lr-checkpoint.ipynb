{
 "cells": [
  {
   "cell_type": "markdown",
   "metadata": {},
   "source": [
    "# Predicting Housing Prices with Linear Regression"
   ]
  },
  {
   "cell_type": "markdown",
   "metadata": {},
   "source": [
    "The solution for the least squares $\\mathbf{w}$ in linear regression is given by:\n",
    "\n",
    "$$\n",
    "\\mathbf{w}=(X^\\top X)^{-1}X^\\top\\mathbf{y}\n",
    "$$\n",
    "\n",
    "So, why do gradient descent? Sometimes, just doing GD is faster than finding the closed form solution above."
   ]
  },
  {
   "cell_type": "code",
   "execution_count": 10,
   "metadata": {},
   "outputs": [
    {
     "data": {
      "text/html": [
       "<div>\n",
       "<style scoped>\n",
       "    .dataframe tbody tr th:only-of-type {\n",
       "        vertical-align: middle;\n",
       "    }\n",
       "\n",
       "    .dataframe tbody tr th {\n",
       "        vertical-align: top;\n",
       "    }\n",
       "\n",
       "    .dataframe thead th {\n",
       "        text-align: right;\n",
       "    }\n",
       "</style>\n",
       "<table border=\"1\" class=\"dataframe\">\n",
       "  <thead>\n",
       "    <tr style=\"text-align: right;\">\n",
       "      <th></th>\n",
       "      <th>CRIM</th>\n",
       "      <th>ZN</th>\n",
       "      <th>INDUS</th>\n",
       "      <th>CHAS</th>\n",
       "      <th>NOX</th>\n",
       "      <th>RM</th>\n",
       "      <th>AGE</th>\n",
       "      <th>DIS</th>\n",
       "      <th>RAD</th>\n",
       "      <th>TAX</th>\n",
       "      <th>PTRATIO</th>\n",
       "      <th>B</th>\n",
       "      <th>LSTAT</th>\n",
       "    </tr>\n",
       "  </thead>\n",
       "  <tbody>\n",
       "    <tr>\n",
       "      <th>0</th>\n",
       "      <td>0.00632</td>\n",
       "      <td>18.0</td>\n",
       "      <td>2.31</td>\n",
       "      <td>0.0</td>\n",
       "      <td>0.538</td>\n",
       "      <td>6.575</td>\n",
       "      <td>65.2</td>\n",
       "      <td>4.0900</td>\n",
       "      <td>1.0</td>\n",
       "      <td>296.0</td>\n",
       "      <td>15.3</td>\n",
       "      <td>396.90</td>\n",
       "      <td>4.98</td>\n",
       "    </tr>\n",
       "    <tr>\n",
       "      <th>1</th>\n",
       "      <td>0.02731</td>\n",
       "      <td>0.0</td>\n",
       "      <td>7.07</td>\n",
       "      <td>0.0</td>\n",
       "      <td>0.469</td>\n",
       "      <td>6.421</td>\n",
       "      <td>78.9</td>\n",
       "      <td>4.9671</td>\n",
       "      <td>2.0</td>\n",
       "      <td>242.0</td>\n",
       "      <td>17.8</td>\n",
       "      <td>396.90</td>\n",
       "      <td>9.14</td>\n",
       "    </tr>\n",
       "    <tr>\n",
       "      <th>2</th>\n",
       "      <td>0.02729</td>\n",
       "      <td>0.0</td>\n",
       "      <td>7.07</td>\n",
       "      <td>0.0</td>\n",
       "      <td>0.469</td>\n",
       "      <td>7.185</td>\n",
       "      <td>61.1</td>\n",
       "      <td>4.9671</td>\n",
       "      <td>2.0</td>\n",
       "      <td>242.0</td>\n",
       "      <td>17.8</td>\n",
       "      <td>392.83</td>\n",
       "      <td>4.03</td>\n",
       "    </tr>\n",
       "    <tr>\n",
       "      <th>3</th>\n",
       "      <td>0.03237</td>\n",
       "      <td>0.0</td>\n",
       "      <td>2.18</td>\n",
       "      <td>0.0</td>\n",
       "      <td>0.458</td>\n",
       "      <td>6.998</td>\n",
       "      <td>45.8</td>\n",
       "      <td>6.0622</td>\n",
       "      <td>3.0</td>\n",
       "      <td>222.0</td>\n",
       "      <td>18.7</td>\n",
       "      <td>394.63</td>\n",
       "      <td>2.94</td>\n",
       "    </tr>\n",
       "    <tr>\n",
       "      <th>4</th>\n",
       "      <td>0.06905</td>\n",
       "      <td>0.0</td>\n",
       "      <td>2.18</td>\n",
       "      <td>0.0</td>\n",
       "      <td>0.458</td>\n",
       "      <td>7.147</td>\n",
       "      <td>54.2</td>\n",
       "      <td>6.0622</td>\n",
       "      <td>3.0</td>\n",
       "      <td>222.0</td>\n",
       "      <td>18.7</td>\n",
       "      <td>396.90</td>\n",
       "      <td>5.33</td>\n",
       "    </tr>\n",
       "  </tbody>\n",
       "</table>\n",
       "</div>"
      ],
      "text/plain": [
       "      CRIM    ZN  INDUS  CHAS    NOX     RM   AGE     DIS  RAD    TAX  \\\n",
       "0  0.00632  18.0   2.31   0.0  0.538  6.575  65.2  4.0900  1.0  296.0   \n",
       "1  0.02731   0.0   7.07   0.0  0.469  6.421  78.9  4.9671  2.0  242.0   \n",
       "2  0.02729   0.0   7.07   0.0  0.469  7.185  61.1  4.9671  2.0  242.0   \n",
       "3  0.03237   0.0   2.18   0.0  0.458  6.998  45.8  6.0622  3.0  222.0   \n",
       "4  0.06905   0.0   2.18   0.0  0.458  7.147  54.2  6.0622  3.0  222.0   \n",
       "\n",
       "   PTRATIO       B  LSTAT  \n",
       "0     15.3  396.90   4.98  \n",
       "1     17.8  396.90   9.14  \n",
       "2     17.8  392.83   4.03  \n",
       "3     18.7  394.63   2.94  \n",
       "4     18.7  396.90   5.33  "
      ]
     },
     "execution_count": 10,
     "metadata": {},
     "output_type": "execute_result"
    }
   ],
   "source": [
    "import matplotlib.pyplot as plt\n",
    "import numpy as np\n",
    "import pandas as pd\n",
    "from sklearn.datasets import load_boston\n",
    "\n",
    "np.random.seed(0)\n",
    "\n",
    "X, y = load_boston(return_X_y=True)\n",
    "\n",
    "Xdf = pd.DataFrame(X)\n",
    "Xdf.columns = [\n",
    "    'CRIM',\n",
    "    'ZN',\n",
    "    'INDUS',\n",
    "    'CHAS',\n",
    "    'NOX',\n",
    "    'RM',\n",
    "    'AGE',\n",
    "    'DIS',\n",
    "    'RAD',\n",
    "    'TAX',\n",
    "    'PTRATIO',\n",
    "    'B',\n",
    "    'LSTAT'\n",
    "]\n",
    "Xdf.head()"
   ]
  },
  {
   "cell_type": "markdown",
   "metadata": {},
   "source": [
    "The features of this dataset are:\n",
    "\n",
    "Feature|Description\n",
    " ---:| :--- \n",
    "CRIM |    per capita crime rate by town\n",
    "ZN   |    proportion of residential land zoned for lots over 25,000 sq.ft.\n",
    "INDUS |   proportion of non-retail business acres per town\n",
    "CHAS   |  Charles River dummy variable (= 1 if tract bounds river; 0 otherwise)\n",
    "NOX    | nitric oxides concentration (parts per 10 million)\n",
    "RM    |   average number of rooms per dwelling\n",
    "AGE   |   proportion of owner-occupied units built prior to 1940\n",
    "DIS    |  weighted distances to five Boston employment centres\n",
    "RAD    |  index of accessibility to radial highways\n",
    "TAX     | full-value property-tax rate per \\$10,000\n",
    "PTRATIO | pupil-teacher ratio by town\n",
    "B      |  1000(Bk - 0.63)^2 where Bk is the proportion of blacks by town\n",
    "LSTAT  |  % lower status of the population\n",
    "\n",
    "and the labels are the median value of owner-occupied homes, in \\$1000's"
   ]
  },
  {
   "cell_type": "markdown",
   "metadata": {},
   "source": [
    "Let's normalize the data, so that it behaves nicely, and we converge faster."
   ]
  },
  {
   "cell_type": "code",
   "execution_count": 11,
   "metadata": {},
   "outputs": [],
   "source": [
    "idx = np.random.permutation(X.shape[0])\n",
    "j = int(X.shape[0] * 0.8) \n",
    "\n",
    "# will need th un-normalized versions later\n",
    "Xtr_pre, ytr_pre = X[idx[:j]], y[idx[:j]]\n",
    "Xte_pre, yte_pre = X[idx[j:]], y[idx[j:]]\n",
    "\n",
    "m = np.mean(X, axis=0)\n",
    "s = np.std(X, axis=0)\n",
    "    \n",
    "X_n = (X - m) / s\n",
    "y_n = (y - np.mean(y)) / np.std(y)\n",
    "\n",
    "Xtr, ytr = X_n[idx[:j]], y_n[idx[:j]]\n",
    "Xte, yte = X_n[idx[j:]], y_n[idx[j:]]"
   ]
  },
  {
   "cell_type": "markdown",
   "metadata": {},
   "source": [
    "### Implementation: Helper functions\n",
    "1. `mean_squared_error(X, y, w)` calculates the MSE based on training matrix $X$, labels $\\mathbf{y}$ and feature weights $\\mathbf{w}$\n",
    "3. `loss_plotter` plot the **MSE vs. iteration**"
   ]
  },
  {
   "cell_type": "code",
   "execution_count": 12,
   "metadata": {},
   "outputs": [],
   "source": [
    "# Mean squared error from residual\n",
    "# Square all residuals, sum them up, and take the mean\n",
    "def mse_from_e(residual):\n",
    "    squares = np.square(residual)\n",
    "    summed = np.sum(squares)\n",
    "    return summed / len(residual)\n",
    "\n",
    "# Mean Squared Error of X.w - y\n",
    "# Calculate Xy - w, and use mse_from_e to find error \n",
    "def mean_squared_error(X, y, w):\n",
    "    e = np.dot(X,w) - y\n",
    "    return mse_from_e(e)\n",
    "\n",
    "# Plot loss as a function of epoch\n",
    "def loss_plotter(vlist, fname):\n",
    "    plt.plot(range(1, 1+len(vlist)), vlist,\n",
    "           linewidth=2, linestyle='-', marker='o')\n",
    "    plt.legend(('Loss'))\n",
    "    plt.grid()\n",
    "    xt = np.arange(0, len(vlist), 10)\n",
    "    _ = plt.xticks(xt)\n",
    "    _ = plt.xlabel('Iteration', fontsize=14)\n",
    "    _ = plt.ylabel(fname, fontsize=14)\n",
    "    _ = plt.title(fname)\n",
    "    plt.show()\n",
    "    return"
   ]
  },
  {
   "cell_type": "markdown",
   "metadata": {},
   "source": [
    "### Gradient Descent for GLMs - Linear Regression\n",
    "\n",
    "For linear regression, $z_i=\\mathbf{x_i}\\cdot\\mathbf{w}$, $h(z_i)=z_i$ and $\\mathcal{l}_i(y_i, \\hat{y}_i)=(y_i-\\hat{y}_i)^2$. So,\n",
    "\n",
    "$$\\nabla_\\mathbf{w}\\mathcal{L}=\\frac{1}{n}\\sum_{i=1}^n \\mathcal{l}'(y_i, \\hat{y}_i)h'(z_i)\\nabla_\\mathbf{w}{z_i}\n",
    "=\\frac{2}{n}\\sum_{i=1}^n (\\hat{y}_i-y_i)\\mathbf{x_i}$$"
   ]
  },
  {
   "cell_type": "code",
   "execution_count": 13,
   "metadata": {},
   "outputs": [],
   "source": [
    "def gradient(X, w, y):\n",
    "    n, d = X.shape\n",
    "    \n",
    "    y_hat = np.dot(X, w).reshape(n)\n",
    "    e = y_hat - y\n",
    "    \n",
    "    weighted_sum_xi = e[0] * X[0,]\n",
    "    \n",
    "    for i in range (1, n):\n",
    "        weighted_sum_xi += e[i] * X[i,]\n",
    "        \n",
    "    return 2/n * weighted_sum_xi.reshape(d,1)"
   ]
  },
  {
   "cell_type": "markdown",
   "metadata": {},
   "source": [
    "### Gradient Descent Algorithm\n",
    "Use $\\mathbf{w}_{t+1}\\leftarrow\\mathbf{w}_t - \\frac{1}{\\sqrt{t}}\\nabla_\\mathbf{w}\\mathcal{L}(\\mathbf{w_t})$  find a suitable $\\mathbf{w}$"
   ]
  },
  {
   "cell_type": "code",
   "execution_count": 14,
   "metadata": {},
   "outputs": [
    {
     "name": "stdout",
     "output_type": "stream",
     "text": [
      "644.337413480026\n"
     ]
    },
    {
     "data": {
      "image/png": "[encoded data removed]",
      "text/plain": [
       "<Figure size 432x288 with 1 Axes>"
      ]
     },
     "metadata": {
      "needs_background": "light"
     },
     "output_type": "display_data"
    }
   ],
   "source": [
    "# ---------------- Main for linear regression using Gradient Descent --------------\n",
    "n, d = Xtr.shape\n",
    "T = 40\n",
    "\n",
    "w = np.zeros((d,1))\n",
    "mse_list = [mean_squared_error(Xtr, ytr, w)]\n",
    "\n",
    "for t in range(1, T+1):\n",
    "    w -= 1 / t * gradient(Xtr, w, ytr)\n",
    "    mse_list.append(mean_squared_error(Xtr, ytr, w))\n",
    "\n",
    "print(mse_list[-1])\n",
    "loss_plotter(mse_list, 'MSE over time')"
   ]
  },
  {
   "cell_type": "markdown",
   "metadata": {},
   "source": [
    "Seemingly, the spike in mean squared error happens because the learning rate is very sensitve"
   ]
  },
  {
   "cell_type": "markdown",
   "metadata": {},
   "source": [
    "Let's \"unnormalize\" the predicted prices, and compare them to the real results "
   ]
  },
  {
   "cell_type": "code",
   "execution_count": 15,
   "metadata": {},
   "outputs": [
    {
     "data": {
      "image/png": "[encoded data removed]",
      "text/plain": [
       "<Figure size 432x288 with 1 Axes>"
      ]
     },
     "metadata": {
      "needs_background": "light"
     },
     "output_type": "display_data"
    }
   ],
   "source": [
    "# Unnormalizing w.r.t to the training set's mean and standard deviation\n",
    "y_final = (np.dot(Xte, w) * np.std(ytr_pre) + np.mean(ytr_pre)).reshape(len(yte_pre))\n",
    "\n",
    "# Plotting the reuslts\n",
    "results = pd.DataFrame({'Housing Price':yte_pre, 'Predicted': y_final})\n",
    "results.plot(kind='scatter', x='Housing Price', y='Predicted')\n",
    "plt.grid()"
   ]
  },
  {
   "cell_type": "markdown",
   "metadata": {},
   "source": [
    "And the first predictions:"
   ]
  },
  {
   "cell_type": "code",
   "execution_count": 16,
   "metadata": {},
   "outputs": [
    {
     "data": {
      "text/html": [
       "<div>\n",
       "<style scoped>\n",
       "    .dataframe tbody tr th:only-of-type {\n",
       "        vertical-align: middle;\n",
       "    }\n",
       "\n",
       "    .dataframe tbody tr th {\n",
       "        vertical-align: top;\n",
       "    }\n",
       "\n",
       "    .dataframe thead th {\n",
       "        text-align: right;\n",
       "    }\n",
       "</style>\n",
       "<table border=\"1\" class=\"dataframe\">\n",
       "  <thead>\n",
       "    <tr style=\"text-align: right;\">\n",
       "      <th></th>\n",
       "      <th>Housing Price</th>\n",
       "      <th>Predicted</th>\n",
       "    </tr>\n",
       "  </thead>\n",
       "  <tbody>\n",
       "    <tr>\n",
       "      <th>0</th>\n",
       "      <td>20.7</td>\n",
       "      <td>22.251575</td>\n",
       "    </tr>\n",
       "    <tr>\n",
       "      <th>1</th>\n",
       "      <td>39.8</td>\n",
       "      <td>33.679540</td>\n",
       "    </tr>\n",
       "    <tr>\n",
       "      <th>2</th>\n",
       "      <td>17.8</td>\n",
       "      <td>19.472144</td>\n",
       "    </tr>\n",
       "    <tr>\n",
       "      <th>3</th>\n",
       "      <td>19.6</td>\n",
       "      <td>19.901033</td>\n",
       "    </tr>\n",
       "    <tr>\n",
       "      <th>4</th>\n",
       "      <td>14.9</td>\n",
       "      <td>15.485360</td>\n",
       "    </tr>\n",
       "    <tr>\n",
       "      <th>5</th>\n",
       "      <td>22.0</td>\n",
       "      <td>26.151544</td>\n",
       "    </tr>\n",
       "    <tr>\n",
       "      <th>6</th>\n",
       "      <td>48.8</td>\n",
       "      <td>39.358578</td>\n",
       "    </tr>\n",
       "    <tr>\n",
       "      <th>7</th>\n",
       "      <td>25.0</td>\n",
       "      <td>25.413788</td>\n",
       "    </tr>\n",
       "    <tr>\n",
       "      <th>8</th>\n",
       "      <td>48.5</td>\n",
       "      <td>39.099549</td>\n",
       "    </tr>\n",
       "    <tr>\n",
       "      <th>9</th>\n",
       "      <td>23.9</td>\n",
       "      <td>24.973350</td>\n",
       "    </tr>\n",
       "  </tbody>\n",
       "</table>\n",
       "</div>"
      ],
      "text/plain": [
       "   Housing Price  Predicted\n",
       "0           20.7  22.251575\n",
       "1           39.8  33.679540\n",
       "2           17.8  19.472144\n",
       "3           19.6  19.901033\n",
       "4           14.9  15.485360\n",
       "5           22.0  26.151544\n",
       "6           48.8  39.358578\n",
       "7           25.0  25.413788\n",
       "8           48.5  39.099549\n",
       "9           23.9  24.973350"
      ]
     },
     "execution_count": 16,
     "metadata": {},
     "output_type": "execute_result"
    }
   ],
   "source": [
    "results.head(10)"
   ]
  }
 ],
 "metadata": {
  "kernelspec": {
   "display_name": "Python 3",
   "language": "python",
   "name": "python3"
  },
  "language_info": {
   "codemirror_mode": {
    "name": "ipython",
    "version": 3
   },
   "file_extension": ".py",
   "mimetype": "text/x-python",
   "name": "python",
   "nbconvert_exporter": "python",
   "pygments_lexer": "ipython3",
   "version": "3.8.2"
  }
 },
 "nbformat": 4,
 "nbformat_minor": 2
}
